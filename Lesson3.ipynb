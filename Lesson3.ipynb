{
 "cells": [
  {
   "cell_type": "markdown",
   "metadata": {},
   "source": [
    "## What is Deep Learning?\n",
    "Deep Learning is a subfield of machine learning concerned with algorithms inspired by the structure and function of the brain called artificial neural networks.\n",
    "<img src=\"./Dlworkshop/4.jpeg\" style=\"width:600px;height:400px;\">\n",
    "\n",
    "## Why there is hype for deep learning?\n",
    "Neural networks which are the basic building block of deep learning are not new, and even older than most machine learning algorithms. But they were not mainstream in earlier years of its development because of lack of computation power and lack of data. In the year 2012 when a team of researcher won imagenet yearly computer vision competition using convolution neural network for the first time in imagenet competition lead made deep learning mainstream ai. They created alexnet cnn(convolution neural network) architecture, the network achieved a top-5 error of 15.3%, more than 10.8 percentage points lower than that of the runner up. Idea of cnn was not new and it was proposed in year 1998 by Yan Le Cun one of the pioneer of modern ai. In 2012, neural networks due to available computation power and enough data they showed their true potential.\n",
    "\n",
    "<img src=\"./Dlworkshop/3.png\" style=\"width:600px;height:400px;\">\n",
    "\n",
    "## Applications of deep learning: - \n",
    "Applications of deep learning are vast and many of great technologies now use deep learning to improve the task. \n",
    "Some of examples are:- \n",
    "1. Self driving cars\n",
    "2. Voice search and virtual assistants\n",
    "3. Machine translation\n",
    "4. Image caption generation\n",
    "5. Colorization of Black and White Images\n",
    "6. Game playing ai(Open Ai dota bot, google brain alpha go).\n",
    "7. Real time object recognition in image (Google lens).\n",
    "\n",
    "<img src=\"./Dlworkshop/2.jpg\">\n",
    "\n",
    "This list can become huge rather endless. See these links to dig deeper in these applications in details.\n",
    "\n",
    "https://machinelearningmastery.com/inspirational-applications-deep-learning/<br>\n",
    "https://medium.com/@vratulmittal/top-15-deep-learning-applications-that-will-rule-the-world-in-2018-and-beyond-7c6130c43b01<br>\n",
    "http://www.yaronhadad.com/deep-learning-most-amazing-applications/\n",
    "\n",
    "Enough talking lets do some real work\n",
    "\n",
    "## Basic building block of deep learning : - \n",
    "### Perceptron\n",
    "Perceptron is the building block of neural networks and deep learning is lot of neural networks stacked together. So before diving into neural networks lets take some time to study perceptrons. \n",
    "<img src=\"./Dlworkshop/perceptron.png\" style=\"width:600px;height:400px;\">\n",
    "\n",
    "Perceptron takes an input, aggregates it (weighted sum) and returns 1 only if the aggregated sum is more than some threshold else returns 0. A way you can think about the perceptron is that it's a device that makes decisions by weighing up evidence. By varying the weights and the threshold, we can get different models of decision-making.\n",
    "<br>\n",
    "Lets implement one function to give you more insight to perceptron. \n",
    "### AND Function Using A Perceptron : - \n",
    "We know the truth table for AND gate. It takes two binary inputs and gives their product as output. Let us think of weights w1 and w2 and threshold(bias) which will give the correct output.\n",
    "<img src=\"./Dlworkshop/andpreceptron.png\" style=\"width:600px;height:300px;\">\n",
    "\n",
    "W1 = 1.0<br>\n",
    "W2 = 1.0<br>\n",
    "threshold = 2.0<br>\n",
    "Using these values for each value\n",
    "<img src=\"./Dlworkshop/andsolution.png\" style=\"width:800px;height:300px;\">\n",
    "\n",
    "### Sigmoid neuron\n"
   ]
  }
 ],
 "metadata": {
  "kernelspec": {
   "display_name": "Python 3",
   "language": "python",
   "name": "python3"
  },
  "language_info": {
   "codemirror_mode": {
    "name": "ipython",
    "version": 3
   },
   "file_extension": ".py",
   "mimetype": "text/x-python",
   "name": "python",
   "nbconvert_exporter": "python",
   "pygments_lexer": "ipython3",
   "version": "3.6.5"
  }
 },
 "nbformat": 4,
 "nbformat_minor": 2
}
