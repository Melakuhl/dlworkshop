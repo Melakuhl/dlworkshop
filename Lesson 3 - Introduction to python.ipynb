{
 "cells": [
  {
   "cell_type": "markdown",
   "metadata": {},
   "source": [
    "# Introduction to python\n",
    "Python is relatively easy to learn the language and if you have basic programming knowledge in any language than studying python in deep for deep learning is not required and it is better if you learn syntax and concepts while implementing deep learning rather than studying python explicitly. This tutorial is enough to start and understand the codes that will be implemented in later tutorials. We will discuss the libraries and framework which we use to make the code in those tutorials only. This will be just basic python covering loops, arrays, lists, conditional statements, etc. So in case you know it you can skip."
   ]
  },
  {
   "cell_type": "markdown",
   "metadata": {},
   "source": [
    "## Variable type\n",
    "Unlike c++ or other languages, we don't need to explicitly define the type of the variable and it is automatically interpreted. For example,"
   ]
  },
  {
   "cell_type": "code",
   "execution_count": 2,
   "metadata": {},
   "outputs": [
    {
     "name": "stdout",
     "output_type": "stream",
     "text": [
      "5 <class 'int'>\n",
      "sanchit <class 'str'>\n"
     ]
    }
   ],
   "source": [
    "a = 5\n",
    "print(a,type(a))\n",
    "name = 'sanchit'\n",
    "print(name,type(name))"
   ]
  },
  {
   "cell_type": "markdown",
   "metadata": {},
   "source": [
    "## Comments in python\n",
    "For single line comments we use '#' for multiple line comments we use triple quotes '''."
   ]
  },
  {
   "cell_type": "code",
   "execution_count": null,
   "metadata": {},
   "outputs": [],
   "source": [
    "# This is single line comment\n",
    "'''\n",
    "This is multi line comment\n",
    "'''"
   ]
  },
  {
   "cell_type": "markdown",
   "metadata": {},
   "source": [
    "## Basic operators\n",
    "Basic operations in python are similar to other languages. "
   ]
  },
  {
   "cell_type": "code",
   "execution_count": 5,
   "metadata": {},
   "outputs": [
    {
     "name": "stdout",
     "output_type": "stream",
     "text": [
      "Multiplication:  15\n",
      "Addition:  8\n",
      "Subtraction:  2\n",
      "Division: 1.6666666666666667\n"
     ]
    }
   ],
   "source": [
    "a = 5\n",
    "b = 3\n",
    "\n",
    "print('Multiplication: ', a*b) # Multiplication\n",
    "print('Addition: ',a+b) # Addition\n",
    "print('Subtraction: ',a-b) # Subtraction\n",
    "print('Division:',a/b) # division "
   ]
  },
  {
   "cell_type": "markdown",
   "metadata": {},
   "source": [
    "## Conditional statements\n",
    "Similar to other programming languages there can be three types of conditional statements.\n",
    "1. if statements\n",
    "2. if-else statements\n",
    "3. nested if statements"
   ]
  },
  {
   "cell_type": "code",
   "execution_count": 11,
   "metadata": {},
   "outputs": [
    {
     "name": "stdout",
     "output_type": "stream",
     "text": [
      "a = 10\n",
      "a is Not 20\n",
      "a+b = 30\n"
     ]
    }
   ],
   "source": [
    "a = 10 \n",
    "b = 20\n",
    "# If statements \n",
    "if(a==10):\n",
    "    print('a =', 10)\n",
    "\n",
    "# if else statement\n",
    "if(a==20):\n",
    "    print('a =',20)\n",
    "else:\n",
    "    print('a is Not 20')\n",
    "# nested if\n",
    "if(a==10):\n",
    "    if(b==20):\n",
    "        print('a+b =',30)"
   ]
  },
  {
   "cell_type": "markdown",
   "metadata": {},
   "source": [
    "## Loops in python\n",
    "Python have for and while loop. There is no do while loop in python"
   ]
  },
  {
   "cell_type": "code",
   "execution_count": 15,
   "metadata": {},
   "outputs": [
    {
     "name": "stdout",
     "output_type": "stream",
     "text": [
      "0\n",
      "1\n",
      "2\n",
      "3\n",
      "4\n",
      "6\n",
      "7\n",
      "8\n",
      "9\n"
     ]
    }
   ],
   "source": [
    "#for loop\n",
    "for i in range(5):\n",
    "    print(i)\n",
    "i = 6\n",
    "while(i<10):\n",
    "    print(i)\n",
    "    i = i+1 # we cant do i++ in python"
   ]
  },
  {
   "cell_type": "markdown",
   "metadata": {},
   "source": [
    "## List\n",
    "List is most versatile python datatype and items in the list can be of different types. We will discuss about how to declare list and some of the most commonly used list operations.\n",
    "### Declaration of list"
   ]
  },
  {
   "cell_type": "code",
   "execution_count": 21,
   "metadata": {},
   "outputs": [
    {
     "name": "stdout",
     "output_type": "stream",
     "text": [
      "['physics', 'chemistry', 1997, 2000]\n",
      "2000\n",
      "2001\n"
     ]
    }
   ],
   "source": [
    "list1 = ['physics', 'chemistry', 1997, 2000]\n",
    "print(list1)\n",
    "# Accessing elements of list\n",
    "print(list1[3])\n",
    "#updating element of list\n",
    "list1[3] = 2001\n",
    "print(list1[3])"
   ]
  },
  {
   "cell_type": "markdown",
   "metadata": {},
   "source": [
    "## Basic list operations"
   ]
  },
  {
   "cell_type": "code",
   "execution_count": 28,
   "metadata": {},
   "outputs": [
    {
     "name": "stdout",
     "output_type": "stream",
     "text": [
      "12\n",
      "['physics', 'chemistry', 1997, 2001, 4, 5, 4, 5, 4, 5, 4, 5, 4, 5]\n",
      "physics\n",
      "chemistry\n",
      "1997\n",
      "2001\n",
      "4\n",
      "5\n",
      "4\n",
      "5\n",
      "4\n",
      "5\n",
      "4\n",
      "5\n",
      "4\n",
      "5\n"
     ]
    }
   ],
   "source": [
    "#Length of list - len(list)\n",
    "print(len(list1))\n",
    "\n",
    "#Concatenate two lists\n",
    "list2 = [4,5]\n",
    "list1 = list1+list2\n",
    "print(list1)\n",
    "\n",
    "#Iterating through list\n",
    "for i in list1:\n",
    "    print(i)"
   ]
  },
  {
   "cell_type": "markdown",
   "metadata": {},
   "source": [
    "## Methods of list"
   ]
  },
  {
   "cell_type": "code",
   "execution_count": 38,
   "metadata": {},
   "outputs": [
    {
     "name": "stdout",
     "output_type": "stream",
     "text": [
      "[2, 2, 2, 2, 2, 2, 2, 2, 4, 5, 6, 2]\n",
      "8\n",
      "[2, 2, 2, 2, 2, 2, 2, 2, 2, 4, 5, 6]\n"
     ]
    }
   ],
   "source": [
    "# Append\n",
    "list2.append(2)\n",
    "print(list2)\n",
    "\n",
    "#Search element and return index\n",
    "\n",
    "print(list2.index(4))\n",
    "\n",
    "#sort\n",
    "list2.sort()\n",
    "print(list2)"
   ]
  },
  {
   "cell_type": "markdown",
   "metadata": {},
   "source": [
    "## Tuples\n",
    "Tuples are similar to lists. We can create list of tuples as well and can get all elements into variables directly."
   ]
  },
  {
   "cell_type": "code",
   "execution_count": 43,
   "metadata": {},
   "outputs": [
    {
     "name": "stdout",
     "output_type": "stream",
     "text": [
      "(1, 2, 3)\n",
      "1\n",
      "1\n",
      "2\n",
      "3\n"
     ]
    }
   ],
   "source": [
    "tup = (1,2,3)\n",
    "print(tup)\n",
    "#accessing elements of tupple\n",
    "print(tup[0])\n",
    "#Copying elements of tupple into variables\n",
    "a,b,c = tup\n",
    "print(a)\n",
    "print(b)\n",
    "print(c)"
   ]
  },
  {
   "cell_type": "markdown",
   "metadata": {},
   "source": [
    "## Dictionary"
   ]
  },
  {
   "cell_type": "markdown",
   "metadata": {},
   "source": [
    "A dictionary is a collection which is unordered, changeable and indexed. It is declared using curly brackets and have a key value pair associated with it."
   ]
  },
  {
   "cell_type": "code",
   "execution_count": 1,
   "metadata": {},
   "outputs": [],
   "source": [
    "dictionary = {1:'physics',\n",
    "              2:'chemistry',\n",
    "              3:'maths'}"
   ]
  },
  {
   "cell_type": "markdown",
   "metadata": {},
   "source": [
    "The key(1,2,3) in this case can be integer or string. We can access the values associated with keys using square brackets"
   ]
  },
  {
   "cell_type": "code",
   "execution_count": 4,
   "metadata": {},
   "outputs": [
    {
     "data": {
      "text/plain": [
       "'maths'"
      ]
     },
     "execution_count": 4,
     "metadata": {},
     "output_type": "execute_result"
    }
   ],
   "source": [
    "dictionary[3]"
   ]
  },
  {
   "cell_type": "markdown",
   "metadata": {},
   "source": [
    "We can check all the keys of dictionary using:"
   ]
  },
  {
   "cell_type": "code",
   "execution_count": 5,
   "metadata": {},
   "outputs": [
    {
     "data": {
      "text/plain": [
       "dict_keys([1, 2, 3])"
      ]
     },
     "execution_count": 5,
     "metadata": {},
     "output_type": "execute_result"
    }
   ],
   "source": [
    "dictionary.keys()"
   ]
  },
  {
   "cell_type": "markdown",
   "metadata": {},
   "source": [
    "Dictionary is powerful tool as the values can be accessed using unique keys only."
   ]
  },
  {
   "cell_type": "markdown",
   "metadata": {},
   "source": [
    "## Numpy"
   ]
  },
  {
   "cell_type": "markdown",
   "metadata": {},
   "source": [
    "It is a library in python for scientific computations. It is used for operations on arrays."
   ]
  },
  {
   "cell_type": "code",
   "execution_count": 28,
   "metadata": {},
   "outputs": [
    {
     "name": "stdout",
     "output_type": "stream",
     "text": [
      "a[0] :  1\n",
      "shape of a: (3,)\n",
      "updated shape of a: (3, 1)\n",
      "shape of first axis: 3\n",
      "Length of array: 3\n"
     ]
    }
   ],
   "source": [
    "import numpy as np\n",
    "\n",
    "#Creating arrays using numpy in python\n",
    "#We can convert any list to numpy array using this basic operation\n",
    "a = np.array([1,2,3])\n",
    "\n",
    "#Accessing elements of array - It is simple. We can access elements by indexing similar to other languages\n",
    "print('a[0] : ',a[0])\n",
    "\n",
    "#Shape of arrays\n",
    "print('shape of a:',a.shape)\n",
    "#We can reshape the numpy arrays using np.reshape\n",
    "a = np.reshape(a,(-1,1)) #Here -1 means same dimension as the given array, the array will be converted to (3,1) in our case.\n",
    "print('updated shape of a:',a.shape)\n",
    "#a.shape will return a tuple and we can store it as tuple which can be beneficial some times\n",
    "dim1,dim2 = a.shape\n",
    "print('shape of first axis:',dim1)\n",
    "\n",
    "#length of numpy array\n",
    "print('Length of array:',len(a)) #length of numpy array is size of its first axis so dim1 and len(a) will give the same output"
   ]
  },
  {
   "cell_type": "code",
   "execution_count": 37,
   "metadata": {},
   "outputs": [
    {
     "name": "stdout",
     "output_type": "stream",
     "text": [
      "x is:\n",
      "[[  103350272       34162]\n",
      " [    4289024 -2005794816]\n",
      " [ 1912602624         111]]\n",
      "x is:\n",
      "[[0 0]\n",
      " [0 0]\n",
      " [0 0]]\n",
      "x is:\n",
      "[[1 1]\n",
      " [1 1]\n",
      " [1 1]]\n"
     ]
    }
   ],
   "source": [
    "#Creating numpy arrays of desired shape\n",
    "x = np.empty([3,2], dtype = int) #This will create an array of shape 3,2 with random integer value\n",
    "print('x is:')\n",
    "print(x)\n",
    "# We can also initialize it with zeros or ones\n",
    "x = np.zeros([3,2],dtype = int)\n",
    "print('x is:')\n",
    "print(x)\n",
    "#Ones\n",
    "x = np.ones([3,2],dtype = int)\n",
    "print('x is:')\n",
    "print(x)"
   ]
  },
  {
   "cell_type": "code",
   "execution_count": 83,
   "metadata": {},
   "outputs": [
    {
     "name": "stdout",
     "output_type": "stream",
     "text": [
      "x is: [[55 82 42 93 24  3 55 29 70 69]]\n",
      "sorted array: [[ 3 24 29 42 55 55 69 70 82 93]]\n",
      "max element of array: 93\n",
      "index of max element of array: 3\n",
      "x: [[0 1 2]\n",
      " [1 1 0]\n",
      " [4 1 0]]\n",
      "x + 1: [[1 2 3]\n",
      " [2 2 1]\n",
      " [5 2 1]]\n",
      "\n",
      "y:  [[1 2 3]\n",
      " [3 1 0]\n",
      " [1 2 4]]\n",
      "Sum of x and y is:  [[1 3 5]\n",
      " [4 2 0]\n",
      " [5 3 4]]\n",
      "Dot Product: [[ 5  5  8]\n",
      " [ 4  3  3]\n",
      " [ 7  9 12]]\n"
     ]
    }
   ],
   "source": [
    "#Operations on numpy array\n",
    "#Sorting\n",
    "x = np.random.randint(low = 0,high = 100,size = (1,10)) #this will create an array of 100 elements from 0-100\n",
    "print('x is:',x)\n",
    "sorted_x = np.sort(x)\n",
    "print('sorted array:',sorted_x)\n",
    "#Max element\n",
    "print('max element of array:',np.max(x))\n",
    "#index of maximum element\n",
    "print('index of max element of array:',np.argmax(x))\n",
    "\n",
    "#Arithmetic operations using numpy array\n",
    "x = np.random.randint(low = 0,high = 5,size = (3,3))\n",
    "y = np.random.randint(low = 0,high = 5,size = (3,3))\n",
    "#Add scalar to every element\n",
    "print('x:', x)\n",
    "print('x + 1:',x+1)\n",
    "print('')\n",
    "print('y: ',y)\n",
    "# Adding two arrays\n",
    "print('Sum of x and y is: ',np.add(x,y))\n",
    "#Other operations:\n",
    "# These operations are element wise\n",
    "#np.mulitply()  \n",
    "#np.subtract()\n",
    "#np.divide()\n",
    "\n",
    "#Dot product\n",
    "\n",
    "print('Dot Product:',np.dot(x,y))"
   ]
  },
  {
   "cell_type": "code",
   "execution_count": 94,
   "metadata": {},
   "outputs": [
    {
     "name": "stdout",
     "output_type": "stream",
     "text": [
      "[0 1 2 3 4 5 6 7 8 9]\n",
      "[ 5.  6.  7.  8.  9. 10. 11. 12. 13. 14. 15.]\n",
      "Float a:  [[-0.21034411  1.66029507  2.15097877  0.2426094  -0.80351362 -1.1659911\n",
      "  -0.78028599  0.14196161 -0.78283311 -0.12519139]]\n",
      "Int a: [[ 0  1  2  0  0 -1  0  0  0  0]]\n"
     ]
    }
   ],
   "source": [
    "#Other useful functions\n",
    "a = np.arange(10) #this will generate series of 0-9\n",
    "print(a)\n",
    "#Return evenly spaced numbers over a specified interval.\n",
    "a = np.linspace(start = 5,stop = 15,num = 11) #The number of elements generated between 5 and 15 is equal to argument num\n",
    "print(a)\n",
    "\n",
    "#Changing datatype of numpy array\n",
    "a = np.random.randn(1,10)\n",
    "print('Float a: ',a)\n",
    "a = a.astype(int) \n",
    "print('Int a:',a)"
   ]
  },
  {
   "cell_type": "markdown",
   "metadata": {},
   "source": [
    "Best sources to study numpy:\n",
    "1. Documentation of numpy.\n",
    "2. Cheat sheet - https://www.datacamp.com/community/blog/python-numpy-cheat-sheet\n",
    "3. https://www.tutorialspoint.com/numpy"
   ]
  }
 ],
 "metadata": {
  "kernelspec": {
   "display_name": "Python 3",
   "language": "python",
   "name": "python3"
  },
  "language_info": {
   "codemirror_mode": {
    "name": "ipython",
    "version": 3
   },
   "file_extension": ".py",
   "mimetype": "text/x-python",
   "name": "python",
   "nbconvert_exporter": "python",
   "pygments_lexer": "ipython3",
   "version": "3.6.5"
  }
 },
 "nbformat": 4,
 "nbformat_minor": 2
}
