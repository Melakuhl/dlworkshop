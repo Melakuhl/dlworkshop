{
 "cells": [
  {
   "cell_type": "markdown",
   "metadata": {},
   "source": [
    "# Introduction to neural networks\n",
    "\n",
    "## Basic building block of deep learning : - \n",
    "### Perceptron\n",
    "Perceptron is the building block of neural networks and deep learning is lot of neural networks stacked together. So before diving into neural networks lets take some time to study perceptrons. \n",
    "<img src=\"./images/perceptron.png\" style=\"width:600px;height:400px;\">\n",
    "\n",
    "Perceptron takes an input, aggregates it (weighted sum) and returns 1 only if the aggregated sum is more than some threshold else returns 0. A way you can think about the perceptron is that it's a device that makes decisions by weighing up evidence. By varying the weights and the threshold, we can get different models of decision-making.\n",
    "<br>\n",
    "Lets implement one function to give you more insight to perceptron. \n",
    "### AND Function Using A Perceptron : - \n",
    "We know the truth table for AND gate. It takes two binary inputs and gives their product as output. Let us think of weights w1 and w2 and threshold(bias) which will give the correct output.\n",
    "<img src=\"./images/andpreceptron.png\" style=\"width:600px;height:300px;\">\n",
    "\n",
    "W1 = 1.0<br>\n",
    "W2 = 1.0<br>\n",
    "threshold = 2.0<br>\n",
    "Using these values for each value\n",
    "<img src=\"./images/andsolution.png\" style=\"width:800px;height:300px;\">\n",
    "\n",
    "### Sigmoid neuron\n",
    "\n",
    "The issue with perceptron is they are very harsh step functions giving output only as 0 or 1 because of this small changes in weights can make a large difference in output, on the other hand in sigmoid neuron small change in weights will make only small change in output. There is a slight difference between the sigmoid neuron and perceptron, instead of using thresholds we use sigmoid function to get output from the weighted sum. Sigmoid function and its output is given by,\n",
    "<img src=\"./images/sigmoid.png\" style=\"width:800px;height:300px;\">\n",
    "Sigmoid function and its graph\n",
    "So we get the output as,\n",
    "\n",
    "<img src=\"./images/sigmoid_output.png\" style=\"width:800px;height:300px;\">"
   ]
  }
 ],
 "metadata": {
  "kernelspec": {
   "display_name": "Python 3",
   "language": "python",
   "name": "python3"
  },
  "language_info": {
   "codemirror_mode": {
    "name": "ipython",
    "version": 3
   },
   "file_extension": ".py",
   "mimetype": "text/x-python",
   "name": "python",
   "nbconvert_exporter": "python",
   "pygments_lexer": "ipython3",
   "version": "3.6.5"
  }
 },
 "nbformat": 4,
 "nbformat_minor": 2
}
