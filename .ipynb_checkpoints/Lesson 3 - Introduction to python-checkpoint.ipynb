{
 "cells": [
  {
   "cell_type": "markdown",
   "metadata": {},
   "source": [
    "# Introduction to python\n",
    "Python is relatively easy to learn the language and if you have basic programming knowledge in any language than studying python in deep for deep learning is not required and it is better if you learn syntax and concepts while implementing deep learning rather than studying python explicitly. This tutorial is enough to start and understand the codes that will be implemented in later tutorials. We will discuss the libraries and framework which we use to make the code in those tutorials only. This will be just basic python covering loops, arrays, lists, conditional statements, etc. So in case you know it you can skip."
   ]
  },
  {
   "cell_type": "markdown",
   "metadata": {},
   "source": [
    "## Variable type\n",
    "Unlike c++ or other languages, we don't need to explicitly define the type of the variable and it is automatically interpreted. For example,"
   ]
  },
  {
   "cell_type": "code",
   "execution_count": 2,
   "metadata": {},
   "outputs": [
    {
     "name": "stdout",
     "output_type": "stream",
     "text": [
      "5 <class 'int'>\n",
      "sanchit <class 'str'>\n"
     ]
    }
   ],
   "source": [
    "a = 5\n",
    "print(a,type(a))\n",
    "name = 'sanchit'\n",
    "print(name,type(name))"
   ]
  },
  {
   "cell_type": "markdown",
   "metadata": {},
   "source": [
    "## Comments in python\n",
    "For single line comments we use '#' for multiple line comments we use triple quotes '''."
   ]
  },
  {
   "cell_type": "code",
   "execution_count": null,
   "metadata": {},
   "outputs": [],
   "source": [
    "# This is single line comment\n",
    "'''\n",
    "This is multi line comment\n",
    "'''"
   ]
  },
  {
   "cell_type": "markdown",
   "metadata": {},
   "source": [
    "## Basic operators\n",
    "Basic operations in python are similar to other languages. "
   ]
  },
  {
   "cell_type": "code",
   "execution_count": 5,
   "metadata": {},
   "outputs": [
    {
     "name": "stdout",
     "output_type": "stream",
     "text": [
      "Multiplication:  15\n",
      "Addition:  8\n",
      "Subtraction:  2\n",
      "Division: 1.6666666666666667\n"
     ]
    }
   ],
   "source": [
    "a = 5\n",
    "b = 3\n",
    "\n",
    "print('Multiplication: ', a*b) # Multiplication\n",
    "print('Addition: ',a+b) # Addition\n",
    "print('Subtraction: ',a-b) # Subtraction\n",
    "print('Division:',a/b) # division "
   ]
  },
  {
   "cell_type": "markdown",
   "metadata": {},
   "source": [
    "## Conditional statements\n",
    "Similar to other programming languages there can be three types of conditional statements.\n",
    "1. if statements\n",
    "2. if-else statements\n",
    "3. nested if statements"
   ]
  },
  {
   "cell_type": "code",
   "execution_count": 11,
   "metadata": {},
   "outputs": [
    {
     "name": "stdout",
     "output_type": "stream",
     "text": [
      "a = 10\n",
      "a is Not 20\n",
      "a+b = 30\n"
     ]
    }
   ],
   "source": [
    "a = 10 \n",
    "b = 20\n",
    "# If statements \n",
    "if(a==10):\n",
    "    print('a =', 10)\n",
    "\n",
    "# if else statement\n",
    "if(a==20):\n",
    "    print('a =',20)\n",
    "else:\n",
    "    print('a is Not 20')\n",
    "# nested if\n",
    "if(a==10):\n",
    "    if(b==20):\n",
    "        print('a+b =',30)"
   ]
  },
  {
   "cell_type": "markdown",
   "metadata": {},
   "source": [
    "## Loops in python\n",
    "Python have for and while loop. There is no do while loop in python"
   ]
  },
  {
   "cell_type": "code",
   "execution_count": 15,
   "metadata": {},
   "outputs": [
    {
     "name": "stdout",
     "output_type": "stream",
     "text": [
      "0\n",
      "1\n",
      "2\n",
      "3\n",
      "4\n",
      "6\n",
      "7\n",
      "8\n",
      "9\n"
     ]
    }
   ],
   "source": [
    "#for loop\n",
    "for i in range(5):\n",
    "    print(i)\n",
    "i = 6\n",
    "while(i<10):\n",
    "    print(i)\n",
    "    i = i+1 # we cant do i++ in python"
   ]
  },
  {
   "cell_type": "markdown",
   "metadata": {},
   "source": [
    "## List\n",
    "List is most versatile python datatype and items in the list can be of different types. We will discuss about how to declare list and some of the most commonly used list operations.\n",
    "### Declaration of list"
   ]
  },
  {
   "cell_type": "code",
   "execution_count": 21,
   "metadata": {},
   "outputs": [
    {
     "name": "stdout",
     "output_type": "stream",
     "text": [
      "['physics', 'chemistry', 1997, 2000]\n",
      "2000\n",
      "2001\n"
     ]
    }
   ],
   "source": [
    "list1 = ['physics', 'chemistry', 1997, 2000]\n",
    "print(list1)\n",
    "# Accessing elements of list\n",
    "print(list1[3])\n",
    "#updating element of list\n",
    "list1[3] = 2001\n",
    "print(list1[3])"
   ]
  },
  {
   "cell_type": "markdown",
   "metadata": {},
   "source": [
    "## Basic list operations"
   ]
  },
  {
   "cell_type": "code",
   "execution_count": 28,
   "metadata": {},
   "outputs": [
    {
     "name": "stdout",
     "output_type": "stream",
     "text": [
      "12\n",
      "['physics', 'chemistry', 1997, 2001, 4, 5, 4, 5, 4, 5, 4, 5, 4, 5]\n",
      "physics\n",
      "chemistry\n",
      "1997\n",
      "2001\n",
      "4\n",
      "5\n",
      "4\n",
      "5\n",
      "4\n",
      "5\n",
      "4\n",
      "5\n",
      "4\n",
      "5\n"
     ]
    }
   ],
   "source": [
    "#Length of list - len(list)\n",
    "print(len(list1))\n",
    "\n",
    "#Concatenate two lists\n",
    "list2 = [4,5]\n",
    "list1 = list1+list2\n",
    "print(list1)\n",
    "\n",
    "#Iterating through list\n",
    "for i in list1:\n",
    "    print(i)"
   ]
  },
  {
   "cell_type": "markdown",
   "metadata": {},
   "source": [
    "## Methods of list"
   ]
  },
  {
   "cell_type": "code",
   "execution_count": 38,
   "metadata": {},
   "outputs": [
    {
     "name": "stdout",
     "output_type": "stream",
     "text": [
      "[2, 2, 2, 2, 2, 2, 2, 2, 4, 5, 6, 2]\n",
      "8\n",
      "[2, 2, 2, 2, 2, 2, 2, 2, 2, 4, 5, 6]\n"
     ]
    }
   ],
   "source": [
    "# Append\n",
    "list2.append(2)\n",
    "print(list2)\n",
    "\n",
    "#Search element and return index\n",
    "\n",
    "print(list2.index(4))\n",
    "\n",
    "#sort\n",
    "list2.sort()\n",
    "print(list2)"
   ]
  },
  {
   "cell_type": "markdown",
   "metadata": {},
   "source": [
    "## Tuples\n",
    "Tuples are similar to lists. We can create list of tuples as well and can get all elements into variables directly."
   ]
  },
  {
   "cell_type": "code",
   "execution_count": 43,
   "metadata": {},
   "outputs": [
    {
     "name": "stdout",
     "output_type": "stream",
     "text": [
      "(1, 2, 3)\n",
      "1\n",
      "1\n",
      "2\n",
      "3\n"
     ]
    }
   ],
   "source": [
    "tup = (1,2,3)\n",
    "print(tup)\n",
    "#accessing elements of tupple\n",
    "print(tup[0])\n",
    "#Copying elements of tupple into variables\n",
    "a,b,c = tup\n",
    "print(a)\n",
    "print(b)\n",
    "print(c)"
   ]
  },
  {
   "cell_type": "markdown",
   "metadata": {},
   "source": [
    "## Dictionary"
   ]
  }
 ],
 "metadata": {
  "kernelspec": {
   "display_name": "Python 3",
   "language": "python",
   "name": "python3"
  },
  "language_info": {
   "codemirror_mode": {
    "name": "ipython",
    "version": 3
   },
   "file_extension": ".py",
   "mimetype": "text/x-python",
   "name": "python",
   "nbconvert_exporter": "python",
   "pygments_lexer": "ipython3",
   "version": "3.6.5"
  }
 },
 "nbformat": 4,
 "nbformat_minor": 2
}
