{
 "cells": [
  {
   "cell_type": "markdown",
   "metadata": {},
   "source": [
    "# What is machine learning?"
   ]
  },
  {
   "cell_type": "markdown",
   "metadata": {},
   "source": [
    "Machine learning is field of study which allows machines(computers) to learn from data or experience and make prediction based on that experience.<br><br>\n",
    "It enables the computers or the machines to make data-driven decisions rather than being explicitly programmed for carrying out a certain task. These programs or algorithms are designed in a way that they learn and improve over time when are exposed to new data."
   ]
  },
  {
   "cell_type": "markdown",
   "metadata": {},
   "source": [
    "# Types of machine learning"
   ]
  },
  {
   "cell_type": "markdown",
   "metadata": {},
   "source": [
    "### Machine learning can be broadly divided into 3 sub categories\n",
    "### 1. Supervised learning - \n",
    "In supervised learning we have a labelled data containing input X and a label Y. In supervised learning our task is to find mapping between the input variable(X) called independent variable and output variable(Y) called dependent variable.#### Supervised learning can further be divided into two type of tasks :-\n",
    "1. Regression - Regression problem is when output variable is continuos and real value. For example price, weight etc\n",
    "2. Classification - Classification is problem when output variable is category, such as “red” or “blue” or “disease” and “no disease”.\n",
    "\n",
    "### 2. Unsupervised learning - \n",
    "Unsupervised learning is where you only have input data (X) and no corresponding output variables.\n",
    "The goal for unsupervised learning is to model the underlying structure or distribution in the data in order to learn more about the data.\n",
    "\n",
    "#### Unsupervised learning can further be divided into two type of tasks :-\n",
    "1. Clustering: A clustering problem is where you want to discover the inherent groupings in the data, such as grouping customers by purchasing behavior.\n",
    "2. Association:  An association rule learning problem is where you want to discover rules that describe large portions of your data, such as people that buy X also tend to buy Y.\n",
    "\n",
    "### 3. Reinforcement learning - \n",
    "Reinforcement learning, in the context of artificial intelligence, is a type of dynamic programming that trains algorithms using a system of reward and punishment.\n",
    "A reinforcement learning algorithm, or agent, learns by interacting with its environment. The agent receives rewards by performing correctly and penalties for performing incorrectly. The agent learns without intervention from a human by maximizing its reward and minimizing its penalty.\n",
    "<br>\n",
    "<br>\n",
    "\n",
    "<img src=\"./Dlworkshop/1.png\">"
   ]
  },
  {
   "cell_type": "markdown",
   "metadata": {},
   "source": [
    "### We will focus on supervised learning here because majority of application of machine learning are supervised learning."
   ]
  },
  {
   "cell_type": "markdown",
   "metadata": {},
   "source": [
    "Refrences\n",
    "https://www.analyticsvidhya.com/blog/2017/09/common-machine-learning-algorithms/\n"
   ]
  }
 ],
 "metadata": {
  "kernelspec": {
   "display_name": "Python 3",
   "language": "python",
   "name": "python3"
  },
  "language_info": {
   "codemirror_mode": {
    "name": "ipython",
    "version": 3
   },
   "file_extension": ".py",
   "mimetype": "text/x-python",
   "name": "python",
   "nbconvert_exporter": "python",
   "pygments_lexer": "ipython3",
   "version": "3.6.5"
  }
 },
 "nbformat": 4,
 "nbformat_minor": 2
}
